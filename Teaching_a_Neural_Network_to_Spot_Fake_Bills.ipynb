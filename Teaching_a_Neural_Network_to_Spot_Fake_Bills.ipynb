{
  "nbformat": 4,
  "nbformat_minor": 0,
  "metadata": {
    "colab": {
      "provenance": [],
      "authorship_tag": "ABX9TyMgaoF27UqSCUPijYlhFXFx",
      "include_colab_link": true
    },
    "kernelspec": {
      "name": "python3",
      "display_name": "Python 3"
    },
    "language_info": {
      "name": "python"
    }
  },
  "cells": [
    {
      "cell_type": "markdown",
      "metadata": {
        "id": "view-in-github",
        "colab_type": "text"
      },
      "source": [
        "<a href=\"https://colab.research.google.com/github/KwakuBonfulBosompim/MSc-Data-Analytics-and-ML-Projects/blob/main/Teaching_a_Neural_Network_to_Spot_Fake_Bills.ipynb\" target=\"_parent\"><img src=\"https://colab.research.google.com/assets/colab-badge.svg\" alt=\"Open In Colab\"/></a>"
      ]
    },
    {
      "cell_type": "markdown",
      "source": [
        "The neural network model or algorithm is like a team of tiny brain cells. Each cell learns a little rule, and together they decide if a bill is real or fake. We feed the network lots of example bills, it practices, and then it gets good at guessing new bills"
      ],
      "metadata": {
        "id": "qQlTLLZ5o0ee"
      }
    },
    {
      "cell_type": "markdown",
      "source": [
        "We will use bill_authentication.csv dataset where the last column is the label (0 = fake, 1 = real) and the other columns are numeric features."
      ],
      "metadata": {
        "id": "P-h-OOZPpo0c"
      }
    },
    {
      "cell_type": "markdown",
      "source": [
        "First We Import relevant libraries(group of modules or functions) & load data"
      ],
      "metadata": {
        "id": "SThs_rcjp5lC"
      }
    },
    {
      "cell_type": "code",
      "source": [
        "import pandas as pd # reads and handles data tables (like Excel in Python)\n",
        "import numpy as np # does maths with numbers and arrays\n",
        "import tensorflow as tf # helps us build neural networks\n",
        "from tensorflow import keras # keras is a way to build neural networks inside TensorFlow\n",
        "from tensorflow.keras import layers # the layers is like building blocks of a neural network, like Lego pieces 🧱\n",
        "from sklearn.model_selection import train_test_split # split our data into training set (to teach) and testing set (to check learning)\n",
        "from sklearn.preprocessing import StandardScaler # used to scale/normalize data so everything is on the same range. (it has a mathematical formula)\n",
        "from sklearn.metrics import confusion_matrix, classification_report # check how well our model did (like a scorecard 📊)"
      ],
      "metadata": {
        "id": "0nKmdBeRp68M"
      },
      "execution_count": 1,
      "outputs": []
    },
    {
      "cell_type": "code",
      "execution_count": 2,
      "metadata": {
        "id": "SJ6MjX95ooQc"
      },
      "outputs": [],
      "source": [
        "# Reproducibility\n",
        "# it's like always use the same sequence of random numbers.”\n",
        "# This makes the experiment repeatable — if you run it again, you’ll get the same train/test split, same neural network initialization, and same result\n",
        "np.random.seed(42)\n",
        "tf.random.set_seed(42)\n",
        "# so here we our experiment repeatable. If we run it again, we get the same random results (like locking the dice 🎲 so it always rolls the same way).\n",
        "\n",
        "# Machine learning uses randomness, like Picking random rows for train/test split, Initializing random weights in the neural network, Shuffling data during training\n",
        "# so we control this randomness, because if we don't every time you run your code you might get slightly different results.\n",
        "# Example: accuracy might be 82% today, but 84% tomorrow, even though nothing changed."
      ]
    },
    {
      "cell_type": "code",
      "source": [
        "# Loading the data\n",
        "data = pd.read_csv('bill_authentication.csv')\n",
        "data.head()"
      ],
      "metadata": {
        "colab": {
          "base_uri": "https://localhost:8080/",
          "height": 206
        },
        "id": "j2BXJVBopn20",
        "outputId": "8e192fda-84a4-4fe2-9738-938ee3ece6cc"
      },
      "execution_count": 4,
      "outputs": [
        {
          "output_type": "execute_result",
          "data": {
            "text/plain": [
              "   Variance  Skewness  Curtosis  Entropy  Class\n",
              "0   3.62160    8.6661   -2.8073 -0.44699      0\n",
              "1   4.54590    8.1674   -2.4586 -1.46210      0\n",
              "2   3.86600   -2.6383    1.9242  0.10645      0\n",
              "3   3.45660    9.5228   -4.0112 -3.59440      0\n",
              "4   0.32924   -4.4552    4.5718 -0.98880      0"
            ],
            "text/html": [
              "\n",
              "  <div id=\"df-8efbcb59-677a-4228-a1a7-c05bad10df89\" class=\"colab-df-container\">\n",
              "    <div>\n",
              "<style scoped>\n",
              "    .dataframe tbody tr th:only-of-type {\n",
              "        vertical-align: middle;\n",
              "    }\n",
              "\n",
              "    .dataframe tbody tr th {\n",
              "        vertical-align: top;\n",
              "    }\n",
              "\n",
              "    .dataframe thead th {\n",
              "        text-align: right;\n",
              "    }\n",
              "</style>\n",
              "<table border=\"1\" class=\"dataframe\">\n",
              "  <thead>\n",
              "    <tr style=\"text-align: right;\">\n",
              "      <th></th>\n",
              "      <th>Variance</th>\n",
              "      <th>Skewness</th>\n",
              "      <th>Curtosis</th>\n",
              "      <th>Entropy</th>\n",
              "      <th>Class</th>\n",
              "    </tr>\n",
              "  </thead>\n",
              "  <tbody>\n",
              "    <tr>\n",
              "      <th>0</th>\n",
              "      <td>3.62160</td>\n",
              "      <td>8.6661</td>\n",
              "      <td>-2.8073</td>\n",
              "      <td>-0.44699</td>\n",
              "      <td>0</td>\n",
              "    </tr>\n",
              "    <tr>\n",
              "      <th>1</th>\n",
              "      <td>4.54590</td>\n",
              "      <td>8.1674</td>\n",
              "      <td>-2.4586</td>\n",
              "      <td>-1.46210</td>\n",
              "      <td>0</td>\n",
              "    </tr>\n",
              "    <tr>\n",
              "      <th>2</th>\n",
              "      <td>3.86600</td>\n",
              "      <td>-2.6383</td>\n",
              "      <td>1.9242</td>\n",
              "      <td>0.10645</td>\n",
              "      <td>0</td>\n",
              "    </tr>\n",
              "    <tr>\n",
              "      <th>3</th>\n",
              "      <td>3.45660</td>\n",
              "      <td>9.5228</td>\n",
              "      <td>-4.0112</td>\n",
              "      <td>-3.59440</td>\n",
              "      <td>0</td>\n",
              "    </tr>\n",
              "    <tr>\n",
              "      <th>4</th>\n",
              "      <td>0.32924</td>\n",
              "      <td>-4.4552</td>\n",
              "      <td>4.5718</td>\n",
              "      <td>-0.98880</td>\n",
              "      <td>0</td>\n",
              "    </tr>\n",
              "  </tbody>\n",
              "</table>\n",
              "</div>\n",
              "    <div class=\"colab-df-buttons\">\n",
              "\n",
              "  <div class=\"colab-df-container\">\n",
              "    <button class=\"colab-df-convert\" onclick=\"convertToInteractive('df-8efbcb59-677a-4228-a1a7-c05bad10df89')\"\n",
              "            title=\"Convert this dataframe to an interactive table.\"\n",
              "            style=\"display:none;\">\n",
              "\n",
              "  <svg xmlns=\"http://www.w3.org/2000/svg\" height=\"24px\" viewBox=\"0 -960 960 960\">\n",
              "    <path d=\"M120-120v-720h720v720H120Zm60-500h600v-160H180v160Zm220 220h160v-160H400v160Zm0 220h160v-160H400v160ZM180-400h160v-160H180v160Zm440 0h160v-160H620v160ZM180-180h160v-160H180v160Zm440 0h160v-160H620v160Z\"/>\n",
              "  </svg>\n",
              "    </button>\n",
              "\n",
              "  <style>\n",
              "    .colab-df-container {\n",
              "      display:flex;\n",
              "      gap: 12px;\n",
              "    }\n",
              "\n",
              "    .colab-df-convert {\n",
              "      background-color: #E8F0FE;\n",
              "      border: none;\n",
              "      border-radius: 50%;\n",
              "      cursor: pointer;\n",
              "      display: none;\n",
              "      fill: #1967D2;\n",
              "      height: 32px;\n",
              "      padding: 0 0 0 0;\n",
              "      width: 32px;\n",
              "    }\n",
              "\n",
              "    .colab-df-convert:hover {\n",
              "      background-color: #E2EBFA;\n",
              "      box-shadow: 0px 1px 2px rgba(60, 64, 67, 0.3), 0px 1px 3px 1px rgba(60, 64, 67, 0.15);\n",
              "      fill: #174EA6;\n",
              "    }\n",
              "\n",
              "    .colab-df-buttons div {\n",
              "      margin-bottom: 4px;\n",
              "    }\n",
              "\n",
              "    [theme=dark] .colab-df-convert {\n",
              "      background-color: #3B4455;\n",
              "      fill: #D2E3FC;\n",
              "    }\n",
              "\n",
              "    [theme=dark] .colab-df-convert:hover {\n",
              "      background-color: #434B5C;\n",
              "      box-shadow: 0px 1px 3px 1px rgba(0, 0, 0, 0.15);\n",
              "      filter: drop-shadow(0px 1px 2px rgba(0, 0, 0, 0.3));\n",
              "      fill: #FFFFFF;\n",
              "    }\n",
              "  </style>\n",
              "\n",
              "    <script>\n",
              "      const buttonEl =\n",
              "        document.querySelector('#df-8efbcb59-677a-4228-a1a7-c05bad10df89 button.colab-df-convert');\n",
              "      buttonEl.style.display =\n",
              "        google.colab.kernel.accessAllowed ? 'block' : 'none';\n",
              "\n",
              "      async function convertToInteractive(key) {\n",
              "        const element = document.querySelector('#df-8efbcb59-677a-4228-a1a7-c05bad10df89');\n",
              "        const dataTable =\n",
              "          await google.colab.kernel.invokeFunction('convertToInteractive',\n",
              "                                                    [key], {});\n",
              "        if (!dataTable) return;\n",
              "\n",
              "        const docLinkHtml = 'Like what you see? Visit the ' +\n",
              "          '<a target=\"_blank\" href=https://colab.research.google.com/notebooks/data_table.ipynb>data table notebook</a>'\n",
              "          + ' to learn more about interactive tables.';\n",
              "        element.innerHTML = '';\n",
              "        dataTable['output_type'] = 'display_data';\n",
              "        await google.colab.output.renderOutput(dataTable, element);\n",
              "        const docLink = document.createElement('div');\n",
              "        docLink.innerHTML = docLinkHtml;\n",
              "        element.appendChild(docLink);\n",
              "      }\n",
              "    </script>\n",
              "  </div>\n",
              "\n",
              "\n",
              "    <div id=\"df-c92bb536-2215-4ffd-a297-4decaf0b33fb\">\n",
              "      <button class=\"colab-df-quickchart\" onclick=\"quickchart('df-c92bb536-2215-4ffd-a297-4decaf0b33fb')\"\n",
              "                title=\"Suggest charts\"\n",
              "                style=\"display:none;\">\n",
              "\n",
              "<svg xmlns=\"http://www.w3.org/2000/svg\" height=\"24px\"viewBox=\"0 0 24 24\"\n",
              "     width=\"24px\">\n",
              "    <g>\n",
              "        <path d=\"M19 3H5c-1.1 0-2 .9-2 2v14c0 1.1.9 2 2 2h14c1.1 0 2-.9 2-2V5c0-1.1-.9-2-2-2zM9 17H7v-7h2v7zm4 0h-2V7h2v10zm4 0h-2v-4h2v4z\"/>\n",
              "    </g>\n",
              "</svg>\n",
              "      </button>\n",
              "\n",
              "<style>\n",
              "  .colab-df-quickchart {\n",
              "      --bg-color: #E8F0FE;\n",
              "      --fill-color: #1967D2;\n",
              "      --hover-bg-color: #E2EBFA;\n",
              "      --hover-fill-color: #174EA6;\n",
              "      --disabled-fill-color: #AAA;\n",
              "      --disabled-bg-color: #DDD;\n",
              "  }\n",
              "\n",
              "  [theme=dark] .colab-df-quickchart {\n",
              "      --bg-color: #3B4455;\n",
              "      --fill-color: #D2E3FC;\n",
              "      --hover-bg-color: #434B5C;\n",
              "      --hover-fill-color: #FFFFFF;\n",
              "      --disabled-bg-color: #3B4455;\n",
              "      --disabled-fill-color: #666;\n",
              "  }\n",
              "\n",
              "  .colab-df-quickchart {\n",
              "    background-color: var(--bg-color);\n",
              "    border: none;\n",
              "    border-radius: 50%;\n",
              "    cursor: pointer;\n",
              "    display: none;\n",
              "    fill: var(--fill-color);\n",
              "    height: 32px;\n",
              "    padding: 0;\n",
              "    width: 32px;\n",
              "  }\n",
              "\n",
              "  .colab-df-quickchart:hover {\n",
              "    background-color: var(--hover-bg-color);\n",
              "    box-shadow: 0 1px 2px rgba(60, 64, 67, 0.3), 0 1px 3px 1px rgba(60, 64, 67, 0.15);\n",
              "    fill: var(--button-hover-fill-color);\n",
              "  }\n",
              "\n",
              "  .colab-df-quickchart-complete:disabled,\n",
              "  .colab-df-quickchart-complete:disabled:hover {\n",
              "    background-color: var(--disabled-bg-color);\n",
              "    fill: var(--disabled-fill-color);\n",
              "    box-shadow: none;\n",
              "  }\n",
              "\n",
              "  .colab-df-spinner {\n",
              "    border: 2px solid var(--fill-color);\n",
              "    border-color: transparent;\n",
              "    border-bottom-color: var(--fill-color);\n",
              "    animation:\n",
              "      spin 1s steps(1) infinite;\n",
              "  }\n",
              "\n",
              "  @keyframes spin {\n",
              "    0% {\n",
              "      border-color: transparent;\n",
              "      border-bottom-color: var(--fill-color);\n",
              "      border-left-color: var(--fill-color);\n",
              "    }\n",
              "    20% {\n",
              "      border-color: transparent;\n",
              "      border-left-color: var(--fill-color);\n",
              "      border-top-color: var(--fill-color);\n",
              "    }\n",
              "    30% {\n",
              "      border-color: transparent;\n",
              "      border-left-color: var(--fill-color);\n",
              "      border-top-color: var(--fill-color);\n",
              "      border-right-color: var(--fill-color);\n",
              "    }\n",
              "    40% {\n",
              "      border-color: transparent;\n",
              "      border-right-color: var(--fill-color);\n",
              "      border-top-color: var(--fill-color);\n",
              "    }\n",
              "    60% {\n",
              "      border-color: transparent;\n",
              "      border-right-color: var(--fill-color);\n",
              "    }\n",
              "    80% {\n",
              "      border-color: transparent;\n",
              "      border-right-color: var(--fill-color);\n",
              "      border-bottom-color: var(--fill-color);\n",
              "    }\n",
              "    90% {\n",
              "      border-color: transparent;\n",
              "      border-bottom-color: var(--fill-color);\n",
              "    }\n",
              "  }\n",
              "</style>\n",
              "\n",
              "      <script>\n",
              "        async function quickchart(key) {\n",
              "          const quickchartButtonEl =\n",
              "            document.querySelector('#' + key + ' button');\n",
              "          quickchartButtonEl.disabled = true;  // To prevent multiple clicks.\n",
              "          quickchartButtonEl.classList.add('colab-df-spinner');\n",
              "          try {\n",
              "            const charts = await google.colab.kernel.invokeFunction(\n",
              "                'suggestCharts', [key], {});\n",
              "          } catch (error) {\n",
              "            console.error('Error during call to suggestCharts:', error);\n",
              "          }\n",
              "          quickchartButtonEl.classList.remove('colab-df-spinner');\n",
              "          quickchartButtonEl.classList.add('colab-df-quickchart-complete');\n",
              "        }\n",
              "        (() => {\n",
              "          let quickchartButtonEl =\n",
              "            document.querySelector('#df-c92bb536-2215-4ffd-a297-4decaf0b33fb button');\n",
              "          quickchartButtonEl.style.display =\n",
              "            google.colab.kernel.accessAllowed ? 'block' : 'none';\n",
              "        })();\n",
              "      </script>\n",
              "    </div>\n",
              "\n",
              "    </div>\n",
              "  </div>\n"
            ],
            "application/vnd.google.colaboratory.intrinsic+json": {
              "type": "dataframe",
              "variable_name": "data",
              "summary": "{\n  \"name\": \"data\",\n  \"rows\": 1372,\n  \"fields\": [\n    {\n      \"column\": \"Variance\",\n      \"properties\": {\n        \"dtype\": \"number\",\n        \"std\": 2.842762586278562,\n        \"min\": -7.0421,\n        \"max\": 6.8248,\n        \"num_unique_values\": 1338,\n        \"samples\": [\n          -2.286,\n          -0.539,\n          0.89512\n        ],\n        \"semantic_type\": \"\",\n        \"description\": \"\"\n      }\n    },\n    {\n      \"column\": \"Skewness\",\n      \"properties\": {\n        \"dtype\": \"number\",\n        \"std\": 5.869046743695522,\n        \"min\": -13.7731,\n        \"max\": 12.9516,\n        \"num_unique_values\": 1256,\n        \"samples\": [\n          11.2217,\n          -4.6145,\n          6.1499\n        ],\n        \"semantic_type\": \"\",\n        \"description\": \"\"\n      }\n    },\n    {\n      \"column\": \"Curtosis\",\n      \"properties\": {\n        \"dtype\": \"number\",\n        \"std\": 4.310030090106595,\n        \"min\": -5.2861,\n        \"max\": 17.9274,\n        \"num_unique_values\": 1270,\n        \"samples\": [\n          7.8981,\n          9.8208,\n          0.20021\n        ],\n        \"semantic_type\": \"\",\n        \"description\": \"\"\n      }\n    },\n    {\n      \"column\": \"Entropy\",\n      \"properties\": {\n        \"dtype\": \"number\",\n        \"std\": 2.1010131373596095,\n        \"min\": -8.5482,\n        \"max\": 2.4495,\n        \"num_unique_values\": 1156,\n        \"samples\": [\n          1.0271,\n          0.90946,\n          -0.026738\n        ],\n        \"semantic_type\": \"\",\n        \"description\": \"\"\n      }\n    },\n    {\n      \"column\": \"Class\",\n      \"properties\": {\n        \"dtype\": \"number\",\n        \"std\": 0,\n        \"min\": 0,\n        \"max\": 1,\n        \"num_unique_values\": 2,\n        \"samples\": [\n          1,\n          0\n        ],\n        \"semantic_type\": \"\",\n        \"description\": \"\"\n      }\n    }\n  ]\n}"
            }
          },
          "metadata": {},
          "execution_count": 4
        }
      ]
    },
    {
      "cell_type": "code",
      "source": [
        "data.info"
      ],
      "metadata": {
        "colab": {
          "base_uri": "https://localhost:8080/",
          "height": 203
        },
        "id": "PA8cs-ASv3qU",
        "outputId": "85ed2634-dca0-405b-bc1e-b7e34d440de8"
      },
      "execution_count": 5,
      "outputs": [
        {
          "output_type": "execute_result",
          "data": {
            "text/plain": [
              "<bound method DataFrame.info of       Variance  Skewness  Curtosis  Entropy  Class\n",
              "0      3.62160   8.66610   -2.8073 -0.44699      0\n",
              "1      4.54590   8.16740   -2.4586 -1.46210      0\n",
              "2      3.86600  -2.63830    1.9242  0.10645      0\n",
              "3      3.45660   9.52280   -4.0112 -3.59440      0\n",
              "4      0.32924  -4.45520    4.5718 -0.98880      0\n",
              "...        ...       ...       ...      ...    ...\n",
              "1367   0.40614   1.34920   -1.4501 -0.55949      1\n",
              "1368  -1.38870  -4.87730    6.4774  0.34179      1\n",
              "1369  -3.75030 -13.45860   17.5932 -2.77710      1\n",
              "1370  -3.56370  -8.38270   12.3930 -1.28230      1\n",
              "1371  -2.54190  -0.65804    2.6842  1.19520      1\n",
              "\n",
              "[1372 rows x 5 columns]>"
            ],
            "text/html": [
              "<div style=\"max-width:800px; border: 1px solid var(--colab-border-color);\"><style>\n",
              "      pre.function-repr-contents {\n",
              "        overflow-x: auto;\n",
              "        padding: 8px 12px;\n",
              "        max-height: 500px;\n",
              "      }\n",
              "\n",
              "      pre.function-repr-contents.function-repr-contents-collapsed {\n",
              "        cursor: pointer;\n",
              "        max-height: 100px;\n",
              "      }\n",
              "    </style>\n",
              "    <pre style=\"white-space: initial; background:\n",
              "         var(--colab-secondary-surface-color); padding: 8px 12px;\n",
              "         border-bottom: 1px solid var(--colab-border-color);\"><b>pandas.core.frame.DataFrame.info</b><br/>def info(verbose: bool | None=None, buf: WriteBuffer[str] | None=None, max_cols: int | None=None, memory_usage: bool | str | None=None, show_counts: bool | None=None) -&gt; None</pre><pre class=\"function-repr-contents function-repr-contents-collapsed\" style=\"\"><a class=\"filepath\" style=\"display:none\" href=\"#\">/usr/local/lib/python3.12/dist-packages/pandas/core/frame.py</a>Print a concise summary of a DataFrame.\n",
              "\n",
              "This method prints information about a DataFrame including\n",
              "the index dtype and columns, non-null values and memory usage.\n",
              "\n",
              "Parameters\n",
              "----------\n",
              "verbose : bool, optional\n",
              "    Whether to print the full summary. By default, the setting in\n",
              "    ``pandas.options.display.max_info_columns`` is followed.\n",
              "buf : writable buffer, defaults to sys.stdout\n",
              "    Where to send the output. By default, the output is printed to\n",
              "    sys.stdout. Pass a writable buffer if you need to further process\n",
              "    the output.\n",
              "max_cols : int, optional\n",
              "    When to switch from the verbose to the truncated output. If the\n",
              "    DataFrame has more than `max_cols` columns, the truncated output\n",
              "    is used. By default, the setting in\n",
              "    ``pandas.options.display.max_info_columns`` is used.\n",
              "memory_usage : bool, str, optional\n",
              "    Specifies whether total memory usage of the DataFrame\n",
              "    elements (including the index) should be displayed. By default,\n",
              "    this follows the ``pandas.options.display.memory_usage`` setting.\n",
              "\n",
              "    True always show memory usage. False never shows memory usage.\n",
              "    A value of &#x27;deep&#x27; is equivalent to &quot;True with deep introspection&quot;.\n",
              "    Memory usage is shown in human-readable units (base-2\n",
              "    representation). Without deep introspection a memory estimation is\n",
              "    made based in column dtype and number of rows assuming values\n",
              "    consume the same memory amount for corresponding dtypes. With deep\n",
              "    memory introspection, a real memory usage calculation is performed\n",
              "    at the cost of computational resources. See the\n",
              "    :ref:`Frequently Asked Questions &lt;df-memory-usage&gt;` for more\n",
              "    details.\n",
              "show_counts : bool, optional\n",
              "    Whether to show the non-null counts. By default, this is shown\n",
              "    only if the DataFrame is smaller than\n",
              "    ``pandas.options.display.max_info_rows`` and\n",
              "    ``pandas.options.display.max_info_columns``. A value of True always\n",
              "    shows the counts, and False never shows the counts.\n",
              "\n",
              "Returns\n",
              "-------\n",
              "None\n",
              "    This method prints a summary of a DataFrame and returns None.\n",
              "\n",
              "See Also\n",
              "--------\n",
              "DataFrame.describe: Generate descriptive statistics of DataFrame\n",
              "    columns.\n",
              "DataFrame.memory_usage: Memory usage of DataFrame columns.\n",
              "\n",
              "Examples\n",
              "--------\n",
              "&gt;&gt;&gt; int_values = [1, 2, 3, 4, 5]\n",
              "&gt;&gt;&gt; text_values = [&#x27;alpha&#x27;, &#x27;beta&#x27;, &#x27;gamma&#x27;, &#x27;delta&#x27;, &#x27;epsilon&#x27;]\n",
              "&gt;&gt;&gt; float_values = [0.0, 0.25, 0.5, 0.75, 1.0]\n",
              "&gt;&gt;&gt; df = pd.DataFrame({&quot;int_col&quot;: int_values, &quot;text_col&quot;: text_values,\n",
              "...                   &quot;float_col&quot;: float_values})\n",
              "&gt;&gt;&gt; df\n",
              "    int_col text_col  float_col\n",
              "0        1    alpha       0.00\n",
              "1        2     beta       0.25\n",
              "2        3    gamma       0.50\n",
              "3        4    delta       0.75\n",
              "4        5  epsilon       1.00\n",
              "\n",
              "Prints information of all columns:\n",
              "\n",
              "&gt;&gt;&gt; df.info(verbose=True)\n",
              "&lt;class &#x27;pandas.core.frame.DataFrame&#x27;&gt;\n",
              "RangeIndex: 5 entries, 0 to 4\n",
              "Data columns (total 3 columns):\n",
              " #   Column     Non-Null Count  Dtype\n",
              "---  ------     --------------  -----\n",
              " 0   int_col    5 non-null      int64\n",
              " 1   text_col   5 non-null      object\n",
              " 2   float_col  5 non-null      float64\n",
              "dtypes: float64(1), int64(1), object(1)\n",
              "memory usage: 248.0+ bytes\n",
              "\n",
              "Prints a summary of columns count and its dtypes but not per column\n",
              "information:\n",
              "\n",
              "&gt;&gt;&gt; df.info(verbose=False)\n",
              "&lt;class &#x27;pandas.core.frame.DataFrame&#x27;&gt;\n",
              "RangeIndex: 5 entries, 0 to 4\n",
              "Columns: 3 entries, int_col to float_col\n",
              "dtypes: float64(1), int64(1), object(1)\n",
              "memory usage: 248.0+ bytes\n",
              "\n",
              "Pipe output of DataFrame.info to buffer instead of sys.stdout, get\n",
              "buffer content and writes to a text file:\n",
              "\n",
              "&gt;&gt;&gt; import io\n",
              "&gt;&gt;&gt; buffer = io.StringIO()\n",
              "&gt;&gt;&gt; df.info(buf=buffer)\n",
              "&gt;&gt;&gt; s = buffer.getvalue()\n",
              "&gt;&gt;&gt; with open(&quot;df_info.txt&quot;, &quot;w&quot;,\n",
              "...           encoding=&quot;utf-8&quot;) as f:  # doctest: +SKIP\n",
              "...     f.write(s)\n",
              "260\n",
              "\n",
              "The `memory_usage` parameter allows deep introspection mode, specially\n",
              "useful for big DataFrames and fine-tune memory optimization:\n",
              "\n",
              "&gt;&gt;&gt; random_strings_array = np.random.choice([&#x27;a&#x27;, &#x27;b&#x27;, &#x27;c&#x27;], 10 ** 6)\n",
              "&gt;&gt;&gt; df = pd.DataFrame({\n",
              "...     &#x27;column_1&#x27;: np.random.choice([&#x27;a&#x27;, &#x27;b&#x27;, &#x27;c&#x27;], 10 ** 6),\n",
              "...     &#x27;column_2&#x27;: np.random.choice([&#x27;a&#x27;, &#x27;b&#x27;, &#x27;c&#x27;], 10 ** 6),\n",
              "...     &#x27;column_3&#x27;: np.random.choice([&#x27;a&#x27;, &#x27;b&#x27;, &#x27;c&#x27;], 10 ** 6)\n",
              "... })\n",
              "&gt;&gt;&gt; df.info()\n",
              "&lt;class &#x27;pandas.core.frame.DataFrame&#x27;&gt;\n",
              "RangeIndex: 1000000 entries, 0 to 999999\n",
              "Data columns (total 3 columns):\n",
              " #   Column    Non-Null Count    Dtype\n",
              "---  ------    --------------    -----\n",
              " 0   column_1  1000000 non-null  object\n",
              " 1   column_2  1000000 non-null  object\n",
              " 2   column_3  1000000 non-null  object\n",
              "dtypes: object(3)\n",
              "memory usage: 22.9+ MB\n",
              "\n",
              "&gt;&gt;&gt; df.info(memory_usage=&#x27;deep&#x27;)\n",
              "&lt;class &#x27;pandas.core.frame.DataFrame&#x27;&gt;\n",
              "RangeIndex: 1000000 entries, 0 to 999999\n",
              "Data columns (total 3 columns):\n",
              " #   Column    Non-Null Count    Dtype\n",
              "---  ------    --------------    -----\n",
              " 0   column_1  1000000 non-null  object\n",
              " 1   column_2  1000000 non-null  object\n",
              " 2   column_3  1000000 non-null  object\n",
              "dtypes: object(3)\n",
              "memory usage: 165.9 MB</pre>\n",
              "      <script>\n",
              "      if (google.colab.kernel.accessAllowed && google.colab.files && google.colab.files.view) {\n",
              "        for (const element of document.querySelectorAll('.filepath')) {\n",
              "          element.style.display = 'block'\n",
              "          element.onclick = (event) => {\n",
              "            event.preventDefault();\n",
              "            event.stopPropagation();\n",
              "            google.colab.files.view(element.textContent, 3646);\n",
              "          };\n",
              "        }\n",
              "      }\n",
              "      for (const element of document.querySelectorAll('.function-repr-contents')) {\n",
              "        element.onclick = (event) => {\n",
              "          event.preventDefault();\n",
              "          event.stopPropagation();\n",
              "          element.classList.toggle('function-repr-contents-collapsed');\n",
              "        };\n",
              "      }\n",
              "      </script>\n",
              "      </div>"
            ]
          },
          "metadata": {},
          "execution_count": 5
        }
      ]
    },
    {
      "cell_type": "markdown",
      "source": [
        "Now We Prepare X and y (features and label), the exact datapoints we will use for the modelling"
      ],
      "metadata": {
        "id": "KL-QZvqKv7d0"
      }
    },
    {
      "cell_type": "code",
      "source": [],
      "metadata": {
        "id": "208cg3SewrWE"
      },
      "execution_count": null,
      "outputs": []
    },
    {
      "cell_type": "code",
      "source": [
        "X = data.iloc[:, :-1].values   # the first 4 features 'Variance,\tSkewness,\tCurtosis,\tEntropy'\n",
        "y = data.iloc[:, -1].values"
      ],
      "metadata": {
        "id": "OIcWw-30v6-B"
      },
      "execution_count": 6,
      "outputs": []
    },
    {
      "cell_type": "code",
      "source": [
        "y[:5]"
      ],
      "metadata": {
        "colab": {
          "base_uri": "https://localhost:8080/"
        },
        "id": "IL6RJ6GtxBdr",
        "outputId": "78c4cd92-ff9f-4046-e770-383ac9e8f2f3"
      },
      "execution_count": 8,
      "outputs": [
        {
          "output_type": "execute_result",
          "data": {
            "text/plain": [
              "array([0, 0, 0, 0, 0])"
            ]
          },
          "metadata": {},
          "execution_count": 8
        }
      ]
    },
    {
      "cell_type": "code",
      "source": [
        "X[:6]"
      ],
      "metadata": {
        "colab": {
          "base_uri": "https://localhost:8080/"
        },
        "id": "2vVDMtTbxKy7",
        "outputId": "25acd4e4-eced-401e-eb51-331b5a674f57"
      },
      "execution_count": 9,
      "outputs": [
        {
          "output_type": "execute_result",
          "data": {
            "text/plain": [
              "array([[ 3.6216 ,  8.6661 , -2.8073 , -0.44699],\n",
              "       [ 4.5459 ,  8.1674 , -2.4586 , -1.4621 ],\n",
              "       [ 3.866  , -2.6383 ,  1.9242 ,  0.10645],\n",
              "       [ 3.4566 ,  9.5228 , -4.0112 , -3.5944 ],\n",
              "       [ 0.32924, -4.4552 ,  4.5718 , -0.9888 ],\n",
              "       [ 4.3684 ,  9.6718 , -3.9606 , -3.1625 ]])"
            ]
          },
          "metadata": {},
          "execution_count": 9
        }
      ]
    },
    {
      "cell_type": "markdown",
      "source": [
        "Now Train / test split the datasets"
      ],
      "metadata": {
        "id": "ONnaCC71xhWb"
      }
    },
    {
      "cell_type": "code",
      "source": [
        "X_train, X_test, y_train, y_test = train_test_split(X, y, test_size=0.2, random_state=42, stratify=y)"
      ],
      "metadata": {
        "id": "Gbrll8Gixqu7"
      },
      "execution_count": 10,
      "outputs": []
    },
    {
      "cell_type": "markdown",
      "source": [
        "we keep some bills hidden (test set) so we can check if the robot really learned."
      ],
      "metadata": {
        "id": "_qyy-oKZyIEk"
      }
    },
    {
      "cell_type": "markdown",
      "source": [
        "Now we Scale features (very important for neural nets)"
      ],
      "metadata": {
        "id": "rwDQAC4xyVTr"
      }
    },
    {
      "cell_type": "code",
      "source": [
        "# we want every feature be on the same scale so the brain cells learn better.\n",
        "scaler = StandardScaler()\n",
        "X_train = scaler.fit_transform(X_train)\n",
        "X_test = scaler.transform(X_test)"
      ],
      "metadata": {
        "id": "7F8fUwpiyMkb"
      },
      "execution_count": 13,
      "outputs": []
    },
    {
      "cell_type": "markdown",
      "source": [
        "Now we build a *simple neural network* (function so we can re-use it)"
      ],
      "metadata": {
        "id": "pjh71VxTzHlb"
      }
    },
    {
      "cell_type": "code",
      "source": [
        "def create_model(input_dim,\n",
        "                 units=32,\n",
        "                 layers_count=2,\n",
        "                 dropout_rate=0.2,\n",
        "                 learning_rate=0.001):\n",
        "    model = keras.Sequential()\n",
        "    # input layer + first hidden layer\n",
        "    model.add(layers.Dense(units, activation='relu', input_shape=(input_dim,)))\n",
        "    model.add(layers.Dropout(dropout_rate))\n",
        "    # additional hidden layers if asked\n",
        "    for _ in range(layers_count - 1):\n",
        "        model.add(layers.Dense(units, activation='relu'))\n",
        "        model.add(layers.Dropout(dropout_rate))\n",
        "    # output layer for binary classification\n",
        "    model.add(layers.Dense(1, activation='sigmoid'))\n",
        "    # compile\n",
        "    optimizer = keras.optimizers.Adam(learning_rate=learning_rate)\n",
        "    model.compile(optimizer=optimizer,\n",
        "                  loss='binary_crossentropy',\n",
        "                  metrics=['accuracy'])\n",
        "    return model\n",
        "\n",
        "input_dim = X_train.shape[1]\n",
        "model = create_model(input_dim)\n",
        "model.summary()"
      ],
      "metadata": {
        "colab": {
          "base_uri": "https://localhost:8080/",
          "height": 344
        },
        "id": "M2jp5Px_y2Mb",
        "outputId": "8cb4fa34-bf62-4862-c36a-1cce0b38f556"
      },
      "execution_count": 14,
      "outputs": [
        {
          "output_type": "stream",
          "name": "stderr",
          "text": [
            "/usr/local/lib/python3.12/dist-packages/keras/src/layers/core/dense.py:93: UserWarning: Do not pass an `input_shape`/`input_dim` argument to a layer. When using Sequential models, prefer using an `Input(shape)` object as the first layer in the model instead.\n",
            "  super().__init__(activity_regularizer=activity_regularizer, **kwargs)\n"
          ]
        },
        {
          "output_type": "display_data",
          "data": {
            "text/plain": [
              "\u001b[1mModel: \"sequential\"\u001b[0m\n"
            ],
            "text/html": [
              "<pre style=\"white-space:pre;overflow-x:auto;line-height:normal;font-family:Menlo,'DejaVu Sans Mono',consolas,'Courier New',monospace\"><span style=\"font-weight: bold\">Model: \"sequential\"</span>\n",
              "</pre>\n"
            ]
          },
          "metadata": {}
        },
        {
          "output_type": "display_data",
          "data": {
            "text/plain": [
              "┏━━━━━━━━━━━━━━━━━━━━━━━━━━━━━━━━━┳━━━━━━━━━━━━━━━━━━━━━━━━┳━━━━━━━━━━━━━━━┓\n",
              "┃\u001b[1m \u001b[0m\u001b[1mLayer (type)                   \u001b[0m\u001b[1m \u001b[0m┃\u001b[1m \u001b[0m\u001b[1mOutput Shape          \u001b[0m\u001b[1m \u001b[0m┃\u001b[1m \u001b[0m\u001b[1m      Param #\u001b[0m\u001b[1m \u001b[0m┃\n",
              "┡━━━━━━━━━━━━━━━━━━━━━━━━━━━━━━━━━╇━━━━━━━━━━━━━━━━━━━━━━━━╇━━━━━━━━━━━━━━━┩\n",
              "│ dense (\u001b[38;5;33mDense\u001b[0m)                   │ (\u001b[38;5;45mNone\u001b[0m, \u001b[38;5;34m32\u001b[0m)             │           \u001b[38;5;34m160\u001b[0m │\n",
              "├─────────────────────────────────┼────────────────────────┼───────────────┤\n",
              "│ dropout (\u001b[38;5;33mDropout\u001b[0m)               │ (\u001b[38;5;45mNone\u001b[0m, \u001b[38;5;34m32\u001b[0m)             │             \u001b[38;5;34m0\u001b[0m │\n",
              "├─────────────────────────────────┼────────────────────────┼───────────────┤\n",
              "│ dense_1 (\u001b[38;5;33mDense\u001b[0m)                 │ (\u001b[38;5;45mNone\u001b[0m, \u001b[38;5;34m32\u001b[0m)             │         \u001b[38;5;34m1,056\u001b[0m │\n",
              "├─────────────────────────────────┼────────────────────────┼───────────────┤\n",
              "│ dropout_1 (\u001b[38;5;33mDropout\u001b[0m)             │ (\u001b[38;5;45mNone\u001b[0m, \u001b[38;5;34m32\u001b[0m)             │             \u001b[38;5;34m0\u001b[0m │\n",
              "├─────────────────────────────────┼────────────────────────┼───────────────┤\n",
              "│ dense_2 (\u001b[38;5;33mDense\u001b[0m)                 │ (\u001b[38;5;45mNone\u001b[0m, \u001b[38;5;34m1\u001b[0m)              │            \u001b[38;5;34m33\u001b[0m │\n",
              "└─────────────────────────────────┴────────────────────────┴───────────────┘\n"
            ],
            "text/html": [
              "<pre style=\"white-space:pre;overflow-x:auto;line-height:normal;font-family:Menlo,'DejaVu Sans Mono',consolas,'Courier New',monospace\">┏━━━━━━━━━━━━━━━━━━━━━━━━━━━━━━━━━┳━━━━━━━━━━━━━━━━━━━━━━━━┳━━━━━━━━━━━━━━━┓\n",
              "┃<span style=\"font-weight: bold\"> Layer (type)                    </span>┃<span style=\"font-weight: bold\"> Output Shape           </span>┃<span style=\"font-weight: bold\">       Param # </span>┃\n",
              "┡━━━━━━━━━━━━━━━━━━━━━━━━━━━━━━━━━╇━━━━━━━━━━━━━━━━━━━━━━━━╇━━━━━━━━━━━━━━━┩\n",
              "│ dense (<span style=\"color: #0087ff; text-decoration-color: #0087ff\">Dense</span>)                   │ (<span style=\"color: #00d7ff; text-decoration-color: #00d7ff\">None</span>, <span style=\"color: #00af00; text-decoration-color: #00af00\">32</span>)             │           <span style=\"color: #00af00; text-decoration-color: #00af00\">160</span> │\n",
              "├─────────────────────────────────┼────────────────────────┼───────────────┤\n",
              "│ dropout (<span style=\"color: #0087ff; text-decoration-color: #0087ff\">Dropout</span>)               │ (<span style=\"color: #00d7ff; text-decoration-color: #00d7ff\">None</span>, <span style=\"color: #00af00; text-decoration-color: #00af00\">32</span>)             │             <span style=\"color: #00af00; text-decoration-color: #00af00\">0</span> │\n",
              "├─────────────────────────────────┼────────────────────────┼───────────────┤\n",
              "│ dense_1 (<span style=\"color: #0087ff; text-decoration-color: #0087ff\">Dense</span>)                 │ (<span style=\"color: #00d7ff; text-decoration-color: #00d7ff\">None</span>, <span style=\"color: #00af00; text-decoration-color: #00af00\">32</span>)             │         <span style=\"color: #00af00; text-decoration-color: #00af00\">1,056</span> │\n",
              "├─────────────────────────────────┼────────────────────────┼───────────────┤\n",
              "│ dropout_1 (<span style=\"color: #0087ff; text-decoration-color: #0087ff\">Dropout</span>)             │ (<span style=\"color: #00d7ff; text-decoration-color: #00d7ff\">None</span>, <span style=\"color: #00af00; text-decoration-color: #00af00\">32</span>)             │             <span style=\"color: #00af00; text-decoration-color: #00af00\">0</span> │\n",
              "├─────────────────────────────────┼────────────────────────┼───────────────┤\n",
              "│ dense_2 (<span style=\"color: #0087ff; text-decoration-color: #0087ff\">Dense</span>)                 │ (<span style=\"color: #00d7ff; text-decoration-color: #00d7ff\">None</span>, <span style=\"color: #00af00; text-decoration-color: #00af00\">1</span>)              │            <span style=\"color: #00af00; text-decoration-color: #00af00\">33</span> │\n",
              "└─────────────────────────────────┴────────────────────────┴───────────────┘\n",
              "</pre>\n"
            ]
          },
          "metadata": {}
        },
        {
          "output_type": "display_data",
          "data": {
            "text/plain": [
              "\u001b[1m Total params: \u001b[0m\u001b[38;5;34m1,249\u001b[0m (4.88 KB)\n"
            ],
            "text/html": [
              "<pre style=\"white-space:pre;overflow-x:auto;line-height:normal;font-family:Menlo,'DejaVu Sans Mono',consolas,'Courier New',monospace\"><span style=\"font-weight: bold\"> Total params: </span><span style=\"color: #00af00; text-decoration-color: #00af00\">1,249</span> (4.88 KB)\n",
              "</pre>\n"
            ]
          },
          "metadata": {}
        },
        {
          "output_type": "display_data",
          "data": {
            "text/plain": [
              "\u001b[1m Trainable params: \u001b[0m\u001b[38;5;34m1,249\u001b[0m (4.88 KB)\n"
            ],
            "text/html": [
              "<pre style=\"white-space:pre;overflow-x:auto;line-height:normal;font-family:Menlo,'DejaVu Sans Mono',consolas,'Courier New',monospace\"><span style=\"font-weight: bold\"> Trainable params: </span><span style=\"color: #00af00; text-decoration-color: #00af00\">1,249</span> (4.88 KB)\n",
              "</pre>\n"
            ]
          },
          "metadata": {}
        },
        {
          "output_type": "display_data",
          "data": {
            "text/plain": [
              "\u001b[1m Non-trainable params: \u001b[0m\u001b[38;5;34m0\u001b[0m (0.00 B)\n"
            ],
            "text/html": [
              "<pre style=\"white-space:pre;overflow-x:auto;line-height:normal;font-family:Menlo,'DejaVu Sans Mono',consolas,'Courier New',monospace\"><span style=\"font-weight: bold\"> Non-trainable params: </span><span style=\"color: #00af00; text-decoration-color: #00af00\">0</span> (0.00 B)\n",
              "</pre>\n"
            ]
          },
          "metadata": {}
        }
      ]
    },
    {
      "cell_type": "markdown",
      "source": [
        "units = how many little brain cells per layer, layers_count = how many layers of cells stacked, dropout = makes some cells take a nap so the model doesn’t memorize."
      ],
      "metadata": {
        "id": "L4Qvp7Lz0TCm"
      }
    },
    {
      "cell_type": "markdown",
      "source": [
        "Train with EarlyStopping (prevents overfitting)"
      ],
      "metadata": {
        "id": "QFf17TlO0gMj"
      }
    },
    {
      "cell_type": "code",
      "source": [
        "callbacks = [\n",
        "    keras.callbacks.EarlyStopping(monitor='val_loss', patience=10, restore_best_weights=True)\n",
        "]\n",
        "\n",
        "history = model.fit(\n",
        "    X_train, y_train,\n",
        "    validation_split=0.1,   # keep a bit of training data to validate during training\n",
        "    epochs=100,\n",
        "    batch_size=32,\n",
        "    callbacks=callbacks,\n",
        "    verbose=2\n",
        ")"
      ],
      "metadata": {
        "colab": {
          "base_uri": "https://localhost:8080/"
        },
        "id": "QWP1trOO0OCl",
        "outputId": "9722da1b-1347-4611-83c1-7a6106372fb2"
      },
      "execution_count": 15,
      "outputs": [
        {
          "output_type": "stream",
          "name": "stdout",
          "text": [
            "Epoch 1/100\n",
            "31/31 - 2s - 59ms/step - accuracy: 0.7700 - loss: 0.5525 - val_accuracy: 0.8182 - val_loss: 0.4773\n",
            "Epoch 2/100\n",
            "31/31 - 0s - 5ms/step - accuracy: 0.8713 - loss: 0.4128 - val_accuracy: 0.8636 - val_loss: 0.3636\n",
            "Epoch 3/100\n",
            "31/31 - 0s - 6ms/step - accuracy: 0.9037 - loss: 0.3165 - val_accuracy: 0.9091 - val_loss: 0.2724\n",
            "Epoch 4/100\n",
            "31/31 - 0s - 5ms/step - accuracy: 0.9321 - loss: 0.2305 - val_accuracy: 0.9273 - val_loss: 0.1958\n",
            "Epoch 5/100\n",
            "31/31 - 0s - 5ms/step - accuracy: 0.9443 - loss: 0.1770 - val_accuracy: 0.9545 - val_loss: 0.1408\n",
            "Epoch 6/100\n",
            "31/31 - 0s - 5ms/step - accuracy: 0.9645 - loss: 0.1263 - val_accuracy: 0.9727 - val_loss: 0.1049\n",
            "Epoch 7/100\n",
            "31/31 - 0s - 5ms/step - accuracy: 0.9645 - loss: 0.1051 - val_accuracy: 0.9727 - val_loss: 0.0817\n",
            "Epoch 8/100\n",
            "31/31 - 0s - 10ms/step - accuracy: 0.9747 - loss: 0.0796 - val_accuracy: 0.9727 - val_loss: 0.0663\n",
            "Epoch 9/100\n",
            "31/31 - 0s - 9ms/step - accuracy: 0.9787 - loss: 0.0664 - val_accuracy: 0.9818 - val_loss: 0.0550\n",
            "Epoch 10/100\n",
            "31/31 - 0s - 9ms/step - accuracy: 0.9858 - loss: 0.0528 - val_accuracy: 0.9818 - val_loss: 0.0454\n",
            "Epoch 11/100\n",
            "31/31 - 0s - 5ms/step - accuracy: 0.9858 - loss: 0.0472 - val_accuracy: 0.9909 - val_loss: 0.0384\n",
            "Epoch 12/100\n",
            "31/31 - 0s - 5ms/step - accuracy: 0.9909 - loss: 0.0356 - val_accuracy: 0.9909 - val_loss: 0.0343\n",
            "Epoch 13/100\n",
            "31/31 - 0s - 5ms/step - accuracy: 0.9868 - loss: 0.0411 - val_accuracy: 0.9909 - val_loss: 0.0306\n",
            "Epoch 14/100\n",
            "31/31 - 0s - 9ms/step - accuracy: 0.9919 - loss: 0.0314 - val_accuracy: 0.9909 - val_loss: 0.0278\n",
            "Epoch 15/100\n",
            "31/31 - 0s - 5ms/step - accuracy: 0.9889 - loss: 0.0307 - val_accuracy: 0.9909 - val_loss: 0.0254\n",
            "Epoch 16/100\n",
            "31/31 - 0s - 5ms/step - accuracy: 0.9909 - loss: 0.0290 - val_accuracy: 1.0000 - val_loss: 0.0220\n",
            "Epoch 17/100\n",
            "31/31 - 0s - 5ms/step - accuracy: 0.9939 - loss: 0.0283 - val_accuracy: 1.0000 - val_loss: 0.0186\n",
            "Epoch 18/100\n",
            "31/31 - 0s - 11ms/step - accuracy: 0.9929 - loss: 0.0231 - val_accuracy: 1.0000 - val_loss: 0.0168\n",
            "Epoch 19/100\n",
            "31/31 - 0s - 5ms/step - accuracy: 0.9929 - loss: 0.0230 - val_accuracy: 1.0000 - val_loss: 0.0141\n",
            "Epoch 20/100\n",
            "31/31 - 0s - 5ms/step - accuracy: 0.9970 - loss: 0.0177 - val_accuracy: 1.0000 - val_loss: 0.0136\n",
            "Epoch 21/100\n",
            "31/31 - 0s - 5ms/step - accuracy: 0.9939 - loss: 0.0201 - val_accuracy: 1.0000 - val_loss: 0.0123\n",
            "Epoch 22/100\n",
            "31/31 - 0s - 10ms/step - accuracy: 0.9970 - loss: 0.0147 - val_accuracy: 1.0000 - val_loss: 0.0113\n",
            "Epoch 23/100\n",
            "31/31 - 0s - 5ms/step - accuracy: 0.9939 - loss: 0.0159 - val_accuracy: 1.0000 - val_loss: 0.0103\n",
            "Epoch 24/100\n",
            "31/31 - 0s - 9ms/step - accuracy: 0.9919 - loss: 0.0222 - val_accuracy: 1.0000 - val_loss: 0.0091\n",
            "Epoch 25/100\n",
            "31/31 - 0s - 6ms/step - accuracy: 0.9980 - loss: 0.0145 - val_accuracy: 1.0000 - val_loss: 0.0081\n",
            "Epoch 26/100\n",
            "31/31 - 0s - 12ms/step - accuracy: 0.9990 - loss: 0.0111 - val_accuracy: 1.0000 - val_loss: 0.0074\n",
            "Epoch 27/100\n",
            "31/31 - 0s - 8ms/step - accuracy: 0.9970 - loss: 0.0146 - val_accuracy: 1.0000 - val_loss: 0.0075\n",
            "Epoch 28/100\n",
            "31/31 - 0s - 9ms/step - accuracy: 0.9980 - loss: 0.0136 - val_accuracy: 1.0000 - val_loss: 0.0067\n",
            "Epoch 29/100\n",
            "31/31 - 0s - 8ms/step - accuracy: 0.9990 - loss: 0.0089 - val_accuracy: 1.0000 - val_loss: 0.0064\n",
            "Epoch 30/100\n",
            "31/31 - 0s - 9ms/step - accuracy: 0.9959 - loss: 0.0098 - val_accuracy: 1.0000 - val_loss: 0.0055\n",
            "Epoch 31/100\n",
            "31/31 - 0s - 11ms/step - accuracy: 0.9970 - loss: 0.0095 - val_accuracy: 1.0000 - val_loss: 0.0053\n",
            "Epoch 32/100\n",
            "31/31 - 0s - 9ms/step - accuracy: 0.9990 - loss: 0.0082 - val_accuracy: 1.0000 - val_loss: 0.0058\n",
            "Epoch 33/100\n",
            "31/31 - 0s - 7ms/step - accuracy: 1.0000 - loss: 0.0048 - val_accuracy: 1.0000 - val_loss: 0.0051\n",
            "Epoch 34/100\n",
            "31/31 - 0s - 9ms/step - accuracy: 0.9990 - loss: 0.0098 - val_accuracy: 1.0000 - val_loss: 0.0043\n",
            "Epoch 35/100\n",
            "31/31 - 0s - 6ms/step - accuracy: 0.9990 - loss: 0.0067 - val_accuracy: 1.0000 - val_loss: 0.0040\n",
            "Epoch 36/100\n",
            "31/31 - 0s - 8ms/step - accuracy: 0.9980 - loss: 0.0098 - val_accuracy: 1.0000 - val_loss: 0.0033\n",
            "Epoch 37/100\n",
            "31/31 - 0s - 5ms/step - accuracy: 0.9980 - loss: 0.0067 - val_accuracy: 1.0000 - val_loss: 0.0033\n",
            "Epoch 38/100\n",
            "31/31 - 0s - 5ms/step - accuracy: 0.9959 - loss: 0.0092 - val_accuracy: 1.0000 - val_loss: 0.0031\n",
            "Epoch 39/100\n",
            "31/31 - 0s - 9ms/step - accuracy: 0.9990 - loss: 0.0060 - val_accuracy: 1.0000 - val_loss: 0.0029\n",
            "Epoch 40/100\n",
            "31/31 - 0s - 10ms/step - accuracy: 0.9990 - loss: 0.0067 - val_accuracy: 1.0000 - val_loss: 0.0035\n",
            "Epoch 41/100\n",
            "31/31 - 0s - 9ms/step - accuracy: 1.0000 - loss: 0.0046 - val_accuracy: 1.0000 - val_loss: 0.0031\n",
            "Epoch 42/100\n",
            "31/31 - 0s - 10ms/step - accuracy: 0.9980 - loss: 0.0059 - val_accuracy: 1.0000 - val_loss: 0.0028\n",
            "Epoch 43/100\n",
            "31/31 - 0s - 5ms/step - accuracy: 0.9980 - loss: 0.0083 - val_accuracy: 1.0000 - val_loss: 0.0041\n",
            "Epoch 44/100\n",
            "31/31 - 0s - 10ms/step - accuracy: 0.9959 - loss: 0.0101 - val_accuracy: 1.0000 - val_loss: 0.0032\n",
            "Epoch 45/100\n",
            "31/31 - 0s - 5ms/step - accuracy: 0.9959 - loss: 0.0079 - val_accuracy: 1.0000 - val_loss: 0.0033\n",
            "Epoch 46/100\n",
            "31/31 - 0s - 9ms/step - accuracy: 1.0000 - loss: 0.0034 - val_accuracy: 1.0000 - val_loss: 0.0029\n",
            "Epoch 47/100\n",
            "31/31 - 0s - 10ms/step - accuracy: 1.0000 - loss: 0.0029 - val_accuracy: 1.0000 - val_loss: 0.0029\n",
            "Epoch 48/100\n",
            "31/31 - 0s - 5ms/step - accuracy: 0.9990 - loss: 0.0079 - val_accuracy: 1.0000 - val_loss: 0.0026\n",
            "Epoch 49/100\n",
            "31/31 - 0s - 5ms/step - accuracy: 0.9990 - loss: 0.0065 - val_accuracy: 1.0000 - val_loss: 0.0022\n",
            "Epoch 50/100\n",
            "31/31 - 0s - 5ms/step - accuracy: 1.0000 - loss: 0.0038 - val_accuracy: 1.0000 - val_loss: 0.0021\n",
            "Epoch 51/100\n",
            "31/31 - 0s - 5ms/step - accuracy: 1.0000 - loss: 0.0036 - val_accuracy: 1.0000 - val_loss: 0.0017\n",
            "Epoch 52/100\n",
            "31/31 - 0s - 5ms/step - accuracy: 0.9990 - loss: 0.0052 - val_accuracy: 1.0000 - val_loss: 0.0014\n",
            "Epoch 53/100\n",
            "31/31 - 0s - 5ms/step - accuracy: 1.0000 - loss: 0.0036 - val_accuracy: 1.0000 - val_loss: 0.0015\n",
            "Epoch 54/100\n",
            "31/31 - 0s - 10ms/step - accuracy: 1.0000 - loss: 0.0023 - val_accuracy: 1.0000 - val_loss: 0.0014\n",
            "Epoch 55/100\n",
            "31/31 - 0s - 5ms/step - accuracy: 0.9990 - loss: 0.0050 - val_accuracy: 1.0000 - val_loss: 0.0015\n",
            "Epoch 56/100\n",
            "31/31 - 0s - 5ms/step - accuracy: 0.9990 - loss: 0.0043 - val_accuracy: 1.0000 - val_loss: 0.0016\n",
            "Epoch 57/100\n",
            "31/31 - 0s - 5ms/step - accuracy: 0.9990 - loss: 0.0046 - val_accuracy: 1.0000 - val_loss: 0.0012\n",
            "Epoch 58/100\n",
            "31/31 - 0s - 5ms/step - accuracy: 1.0000 - loss: 0.0034 - val_accuracy: 1.0000 - val_loss: 0.0012\n",
            "Epoch 59/100\n",
            "31/31 - 0s - 5ms/step - accuracy: 0.9990 - loss: 0.0030 - val_accuracy: 1.0000 - val_loss: 0.0013\n",
            "Epoch 60/100\n",
            "31/31 - 0s - 5ms/step - accuracy: 1.0000 - loss: 0.0020 - val_accuracy: 1.0000 - val_loss: 0.0013\n",
            "Epoch 61/100\n",
            "31/31 - 0s - 9ms/step - accuracy: 1.0000 - loss: 0.0023 - val_accuracy: 1.0000 - val_loss: 0.0013\n",
            "Epoch 62/100\n",
            "31/31 - 0s - 5ms/step - accuracy: 0.9990 - loss: 0.0034 - val_accuracy: 1.0000 - val_loss: 0.0012\n",
            "Epoch 63/100\n",
            "31/31 - 0s - 10ms/step - accuracy: 1.0000 - loss: 0.0015 - val_accuracy: 1.0000 - val_loss: 0.0010\n",
            "Epoch 64/100\n",
            "31/31 - 0s - 5ms/step - accuracy: 1.0000 - loss: 0.0025 - val_accuracy: 1.0000 - val_loss: 0.0012\n",
            "Epoch 65/100\n",
            "31/31 - 0s - 5ms/step - accuracy: 1.0000 - loss: 0.0019 - val_accuracy: 1.0000 - val_loss: 0.0011\n",
            "Epoch 66/100\n",
            "31/31 - 0s - 10ms/step - accuracy: 0.9990 - loss: 0.0033 - val_accuracy: 1.0000 - val_loss: 0.0011\n",
            "Epoch 67/100\n",
            "31/31 - 0s - 10ms/step - accuracy: 1.0000 - loss: 0.0021 - val_accuracy: 1.0000 - val_loss: 9.0080e-04\n",
            "Epoch 68/100\n",
            "31/31 - 0s - 5ms/step - accuracy: 0.9990 - loss: 0.0028 - val_accuracy: 1.0000 - val_loss: 9.5308e-04\n",
            "Epoch 69/100\n",
            "31/31 - 0s - 9ms/step - accuracy: 1.0000 - loss: 0.0020 - val_accuracy: 1.0000 - val_loss: 9.2051e-04\n",
            "Epoch 70/100\n",
            "31/31 - 0s - 10ms/step - accuracy: 1.0000 - loss: 0.0018 - val_accuracy: 1.0000 - val_loss: 0.0010\n",
            "Epoch 71/100\n",
            "31/31 - 0s - 5ms/step - accuracy: 0.9980 - loss: 0.0032 - val_accuracy: 1.0000 - val_loss: 9.0597e-04\n",
            "Epoch 72/100\n",
            "31/31 - 0s - 5ms/step - accuracy: 0.9990 - loss: 0.0035 - val_accuracy: 1.0000 - val_loss: 0.0010\n",
            "Epoch 73/100\n",
            "31/31 - 0s - 5ms/step - accuracy: 0.9980 - loss: 0.0058 - val_accuracy: 1.0000 - val_loss: 7.6418e-04\n",
            "Epoch 74/100\n",
            "31/31 - 0s - 10ms/step - accuracy: 0.9980 - loss: 0.0094 - val_accuracy: 1.0000 - val_loss: 8.5936e-04\n",
            "Epoch 75/100\n",
            "31/31 - 0s - 10ms/step - accuracy: 1.0000 - loss: 0.0018 - val_accuracy: 1.0000 - val_loss: 9.8496e-04\n",
            "Epoch 76/100\n",
            "31/31 - 0s - 5ms/step - accuracy: 1.0000 - loss: 0.0024 - val_accuracy: 1.0000 - val_loss: 8.4699e-04\n",
            "Epoch 77/100\n",
            "31/31 - 0s - 5ms/step - accuracy: 0.9990 - loss: 0.0025 - val_accuracy: 1.0000 - val_loss: 6.4225e-04\n",
            "Epoch 78/100\n",
            "31/31 - 0s - 5ms/step - accuracy: 1.0000 - loss: 0.0019 - val_accuracy: 1.0000 - val_loss: 6.1764e-04\n",
            "Epoch 79/100\n",
            "31/31 - 0s - 11ms/step - accuracy: 1.0000 - loss: 0.0017 - val_accuracy: 1.0000 - val_loss: 5.9819e-04\n",
            "Epoch 80/100\n",
            "31/31 - 0s - 10ms/step - accuracy: 1.0000 - loss: 0.0021 - val_accuracy: 1.0000 - val_loss: 6.0416e-04\n",
            "Epoch 81/100\n",
            "31/31 - 0s - 9ms/step - accuracy: 1.0000 - loss: 0.0017 - val_accuracy: 1.0000 - val_loss: 9.1826e-04\n",
            "Epoch 82/100\n",
            "31/31 - 0s - 10ms/step - accuracy: 0.9980 - loss: 0.0037 - val_accuracy: 1.0000 - val_loss: 9.5125e-04\n",
            "Epoch 83/100\n",
            "31/31 - 0s - 9ms/step - accuracy: 1.0000 - loss: 0.0012 - val_accuracy: 1.0000 - val_loss: 9.3148e-04\n",
            "Epoch 84/100\n",
            "31/31 - 0s - 11ms/step - accuracy: 1.0000 - loss: 0.0015 - val_accuracy: 1.0000 - val_loss: 7.7470e-04\n",
            "Epoch 85/100\n",
            "31/31 - 0s - 10ms/step - accuracy: 1.0000 - loss: 0.0014 - val_accuracy: 1.0000 - val_loss: 7.1789e-04\n",
            "Epoch 86/100\n",
            "31/31 - 0s - 7ms/step - accuracy: 1.0000 - loss: 9.4765e-04 - val_accuracy: 1.0000 - val_loss: 6.8930e-04\n",
            "Epoch 87/100\n",
            "31/31 - 0s - 5ms/step - accuracy: 1.0000 - loss: 0.0019 - val_accuracy: 1.0000 - val_loss: 6.2115e-04\n",
            "Epoch 88/100\n",
            "31/31 - 0s - 9ms/step - accuracy: 0.9990 - loss: 0.0051 - val_accuracy: 1.0000 - val_loss: 7.2434e-04\n",
            "Epoch 89/100\n",
            "31/31 - 0s - 10ms/step - accuracy: 0.9990 - loss: 0.0051 - val_accuracy: 1.0000 - val_loss: 7.2873e-04\n"
          ]
        }
      ]
    },
    {
      "cell_type": "markdown",
      "source": [
        "we let the robot practice (epochs) but stop early if it stops getting better so it doesn’t \"memorize\" the practice bills"
      ],
      "metadata": {
        "id": "zUlIgOdv0_oD"
      }
    },
    {
      "cell_type": "markdown",
      "source": [
        "Predict and evaluate whether the NN algorithm rightly learned from the datasets and can accurately predict the target values"
      ],
      "metadata": {
        "id": "vVkKIyjf1GN6"
      }
    },
    {
      "cell_type": "code",
      "source": [
        "# probabilities then convert to 0/1\n",
        "y_prob = model.predict(X_test).ravel()\n",
        "y_pred = (y_prob >= 0.5).astype(int)\n",
        "\n",
        "print(confusion_matrix(y_test, y_pred))\n",
        "print(classification_report(y_test, y_pred, digits=4))"
      ],
      "metadata": {
        "colab": {
          "base_uri": "https://localhost:8080/"
        },
        "id": "TG6dLxc_06v7",
        "outputId": "b04e72f1-7b52-49eb-aed1-2fca3434f1ce"
      },
      "execution_count": 16,
      "outputs": [
        {
          "output_type": "stream",
          "name": "stdout",
          "text": [
            "\u001b[1m9/9\u001b[0m \u001b[32m━━━━━━━━━━━━━━━━━━━━\u001b[0m\u001b[37m\u001b[0m \u001b[1m0s\u001b[0m 8ms/step \n",
            "[[153   0]\n",
            " [  0 122]]\n",
            "              precision    recall  f1-score   support\n",
            "\n",
            "           0     1.0000    1.0000    1.0000       153\n",
            "           1     1.0000    1.0000    1.0000       122\n",
            "\n",
            "    accuracy                         1.0000       275\n",
            "   macro avg     1.0000    1.0000    1.0000       275\n",
            "weighted avg     1.0000    1.0000    1.0000       275\n",
            "\n"
          ]
        }
      ]
    },
    {
      "cell_type": "markdown",
      "source": [
        "From the confusion matrix\n",
        "\n",
        "153 → Real bills correctly detected ✅\n",
        "0 → Real bills incorrectly marked as fake ❌ (none!)\n",
        "0 → Fake bills incorrectly marked as real ❌ (none!)\n",
        "122 → Fake bills correctly detected ✅"
      ],
      "metadata": {
        "id": "IXSUtNzn1zoU"
      }
    },
    {
      "cell_type": "markdown",
      "source": [
        "This means the neural network got every single bill right in the test set — perfect prediction!"
      ],
      "metadata": {
        "id": "wEvBs3pU2eX4"
      }
    },
    {
      "cell_type": "markdown",
      "source": [
        "accuracy = 1.0000\n",
        "Accuracy = correct predictions ÷ total predictions\n",
        "all 275 bills were predicted correctly → 100% accuracy\n",
        "\n",
        "Precision\n",
        "How many predicted “real” bills are actually real\n",
        "1.000\n",
        "Every time the robot said “real”, it was correct!\n",
        "\n",
        "Recall\n",
        "How many actual real bills the robot caught\n",
        "1.000\n",
        "The robot didn’t miss any real bills.\n",
        "\n",
        "F1-score\n",
        "Balance of precision & recall\n",
        "1.000\n",
        "Perfect balance — the robot is super smart!\n",
        "\n",
        "Support = number of bills in that category (153 real, 122 fake)."
      ],
      "metadata": {
        "id": "GfC8tTJz2iKD"
      }
    },
    {
      "cell_type": "markdown",
      "source": [
        "[[TN FP]\n",
        " [FN TP]]\n"
      ],
      "metadata": {
        "id": "KB0wKipc5T7e"
      }
    },
    {
      "cell_type": "markdown",
      "source": [
        "How to Make the Neural Network Even Smarter\n",
        "\n",
        "\n",
        "Hyperparameter tuning\n",
        "we can tune the neural network “knobs” (hyperparameters):\n",
        "units (neurons per layer)\n",
        "layers_count (how many layers)\n",
        "dropout_rate\n",
        "learning_rate\n",
        "batch_size and epochs"
      ],
      "metadata": {
        "id": "19ElUTCE5VNe"
      }
    },
    {
      "cell_type": "markdown",
      "source": [
        "Different approaches\n",
        "1. Manual tuning (simple & safe)\n",
        "2. Grid search (automated, but expensive)\n",
        "3. Keras Tuner (recommended for NN)"
      ],
      "metadata": {
        "id": "yNDwlROO9pfW"
      }
    },
    {
      "cell_type": "code",
      "source": [],
      "metadata": {
        "id": "I58c39dQ-C7g"
      },
      "execution_count": null,
      "outputs": []
    },
    {
      "cell_type": "code",
      "source": [
        "# Manual tuning (simple & safe)\n",
        "# we try a few settings, compare validation accuracy:\n",
        "for units in [16, 32]:\n",
        "    for layers_count in [1, 2]:\n",
        "        model = create_model(input_dim, units=units, layers_count=layers_count)\n",
        "        history = model.fit(X_train, y_train, validation_split=0.1,\n",
        "                            epochs=50, batch_size=32, verbose=0)\n",
        "        val_acc = history.history['val_accuracy'][-1]\n",
        "        print(f\"units={units}, layers={layers_count} -> val_acc={val_acc:.4f}\")"
      ],
      "metadata": {
        "colab": {
          "base_uri": "https://localhost:8080/"
        },
        "id": "lgccdiqA5nX1",
        "outputId": "a217d0aa-422a-45ce-a229-d17b52800a00"
      },
      "execution_count": 17,
      "outputs": [
        {
          "output_type": "stream",
          "name": "stderr",
          "text": [
            "/usr/local/lib/python3.12/dist-packages/keras/src/layers/core/dense.py:93: UserWarning: Do not pass an `input_shape`/`input_dim` argument to a layer. When using Sequential models, prefer using an `Input(shape)` object as the first layer in the model instead.\n",
            "  super().__init__(activity_regularizer=activity_regularizer, **kwargs)\n"
          ]
        },
        {
          "output_type": "stream",
          "name": "stdout",
          "text": [
            "units=16, layers=1 -> val_acc=0.9818\n",
            "units=16, layers=2 -> val_acc=1.0000\n",
            "units=32, layers=1 -> val_acc=0.9818\n",
            "units=32, layers=2 -> val_acc=1.0000\n"
          ]
        }
      ]
    },
    {
      "cell_type": "code",
      "source": [
        "# Grid search (automated, but expensive)\n",
        "# we can systematically try many combinations. Example grid\n",
        "grid = {\n",
        "    'units': [16, 32],          # 2 choices\n",
        "    'layers_count': [1, 2],     # 2 choices\n",
        "    'batch_size': [16, 32],     # 2 choices\n",
        "    'epochs': [50, 100]         # 2 choices\n",
        "}"
      ],
      "metadata": {
        "id": "AnMACb2K2hHU"
      },
      "execution_count": 18,
      "outputs": []
    },
    {
      "cell_type": "markdown",
      "source": [
        "we asked ourselves how many models will be trained?\n",
        "\n",
        "Combinations = 2 × 2 × 2 × 2 = 16 different parameter combinations.\n",
        "\n",
        "we can use 5-fold cross-validation to evaluate each combination, total training runs = 16 × 5 = 80 model training runs.\n",
        "\n",
        "(Arithmetic shown step-by-step: 2 × 2 = 4; 4 × 2 = 8; 8 × 2 = 16 combos; 16 × 5 = 80 trainings.)\n",
        "\n",
        "The Grid search is like trying all cookie recipes from a tiny cookbook; it can take a while.\n",
        "\n",
        "Warning: Grid searching neural nets is slower than for small models. Prefer RandomizedSearch or Keras Tuner for bigger grids."
      ],
      "metadata": {
        "id": "ZS3RsE3f_BzX"
      }
    },
    {
      "cell_type": "code",
      "source": [
        "# Keras Tuner (recommended for NN) Approach\n",
        "# Keras Tuner auto-searches efficiently (RandomSearch, Hyperband, Bayesian)\n",
        "import kerastuner as kt\n",
        "\n",
        "def build_model(hp):\n",
        "    units = hp.Int('units', 8, 64, step=8)\n",
        "    layers_count = hp.Int('layers', 1, 3)\n",
        "    lr = hp.Choice('lr', [1e-2, 1e-3, 1e-4])\n",
        "    model = create_model(input_dim, units=units, layers_count=layers_count, learning_rate=lr)\n",
        "    return model\n",
        "\n",
        "tuner = kt.RandomSearch(build_model, objective='val_accuracy', max_trials=10, executions_per_trial=1, directory='tuner_dir', project_name='bill_nn')\n",
        "tuner.search(X_train, y_train, validation_split=0.1, epochs=50, callbacks=[keras.callbacks.EarlyStopping(monitor='val_loss', patience=7)])\n",
        "best_model = tuner.get_best_models(num_models=1)[0]\n",
        "best_model.summary()"
      ],
      "metadata": {
        "colab": {
          "base_uri": "https://localhost:8080/",
          "height": 494
        },
        "id": "Ni3IW2th_ZwP",
        "outputId": "ccebcab2-7959-4a40-a550-71bde8c207e9"
      },
      "execution_count": 21,
      "outputs": [
        {
          "output_type": "stream",
          "name": "stdout",
          "text": [
            "Trial 10 Complete [00h 00m 15s]\n",
            "val_accuracy: 0.9727272987365723\n",
            "\n",
            "Best val_accuracy So Far: 1.0\n",
            "Total elapsed time: 00h 02m 34s\n"
          ]
        },
        {
          "output_type": "stream",
          "name": "stderr",
          "text": [
            "/usr/local/lib/python3.12/dist-packages/keras/src/saving/saving_lib.py:802: UserWarning: Skipping variable loading for optimizer 'adam', because it has 2 variables whereas the saved optimizer has 18 variables. \n",
            "  saveable.load_own_variables(weights_store.get(inner_path))\n"
          ]
        },
        {
          "output_type": "display_data",
          "data": {
            "text/plain": [
              "\u001b[1mModel: \"sequential\"\u001b[0m\n"
            ],
            "text/html": [
              "<pre style=\"white-space:pre;overflow-x:auto;line-height:normal;font-family:Menlo,'DejaVu Sans Mono',consolas,'Courier New',monospace\"><span style=\"font-weight: bold\">Model: \"sequential\"</span>\n",
              "</pre>\n"
            ]
          },
          "metadata": {}
        },
        {
          "output_type": "display_data",
          "data": {
            "text/plain": [
              "┏━━━━━━━━━━━━━━━━━━━━━━━━━━━━━━━━━┳━━━━━━━━━━━━━━━━━━━━━━━━┳━━━━━━━━━━━━━━━┓\n",
              "┃\u001b[1m \u001b[0m\u001b[1mLayer (type)                   \u001b[0m\u001b[1m \u001b[0m┃\u001b[1m \u001b[0m\u001b[1mOutput Shape          \u001b[0m\u001b[1m \u001b[0m┃\u001b[1m \u001b[0m\u001b[1m      Param #\u001b[0m\u001b[1m \u001b[0m┃\n",
              "┡━━━━━━━━━━━━━━━━━━━━━━━━━━━━━━━━━╇━━━━━━━━━━━━━━━━━━━━━━━━╇━━━━━━━━━━━━━━━┩\n",
              "│ dense (\u001b[38;5;33mDense\u001b[0m)                   │ (\u001b[38;5;45mNone\u001b[0m, \u001b[38;5;34m24\u001b[0m)             │           \u001b[38;5;34m120\u001b[0m │\n",
              "├─────────────────────────────────┼────────────────────────┼───────────────┤\n",
              "│ dropout (\u001b[38;5;33mDropout\u001b[0m)               │ (\u001b[38;5;45mNone\u001b[0m, \u001b[38;5;34m24\u001b[0m)             │             \u001b[38;5;34m0\u001b[0m │\n",
              "├─────────────────────────────────┼────────────────────────┼───────────────┤\n",
              "│ dense_1 (\u001b[38;5;33mDense\u001b[0m)                 │ (\u001b[38;5;45mNone\u001b[0m, \u001b[38;5;34m24\u001b[0m)             │           \u001b[38;5;34m600\u001b[0m │\n",
              "├─────────────────────────────────┼────────────────────────┼───────────────┤\n",
              "│ dropout_1 (\u001b[38;5;33mDropout\u001b[0m)             │ (\u001b[38;5;45mNone\u001b[0m, \u001b[38;5;34m24\u001b[0m)             │             \u001b[38;5;34m0\u001b[0m │\n",
              "├─────────────────────────────────┼────────────────────────┼───────────────┤\n",
              "│ dense_2 (\u001b[38;5;33mDense\u001b[0m)                 │ (\u001b[38;5;45mNone\u001b[0m, \u001b[38;5;34m24\u001b[0m)             │           \u001b[38;5;34m600\u001b[0m │\n",
              "├─────────────────────────────────┼────────────────────────┼───────────────┤\n",
              "│ dropout_2 (\u001b[38;5;33mDropout\u001b[0m)             │ (\u001b[38;5;45mNone\u001b[0m, \u001b[38;5;34m24\u001b[0m)             │             \u001b[38;5;34m0\u001b[0m │\n",
              "├─────────────────────────────────┼────────────────────────┼───────────────┤\n",
              "│ dense_3 (\u001b[38;5;33mDense\u001b[0m)                 │ (\u001b[38;5;45mNone\u001b[0m, \u001b[38;5;34m1\u001b[0m)              │            \u001b[38;5;34m25\u001b[0m │\n",
              "└─────────────────────────────────┴────────────────────────┴───────────────┘\n"
            ],
            "text/html": [
              "<pre style=\"white-space:pre;overflow-x:auto;line-height:normal;font-family:Menlo,'DejaVu Sans Mono',consolas,'Courier New',monospace\">┏━━━━━━━━━━━━━━━━━━━━━━━━━━━━━━━━━┳━━━━━━━━━━━━━━━━━━━━━━━━┳━━━━━━━━━━━━━━━┓\n",
              "┃<span style=\"font-weight: bold\"> Layer (type)                    </span>┃<span style=\"font-weight: bold\"> Output Shape           </span>┃<span style=\"font-weight: bold\">       Param # </span>┃\n",
              "┡━━━━━━━━━━━━━━━━━━━━━━━━━━━━━━━━━╇━━━━━━━━━━━━━━━━━━━━━━━━╇━━━━━━━━━━━━━━━┩\n",
              "│ dense (<span style=\"color: #0087ff; text-decoration-color: #0087ff\">Dense</span>)                   │ (<span style=\"color: #00d7ff; text-decoration-color: #00d7ff\">None</span>, <span style=\"color: #00af00; text-decoration-color: #00af00\">24</span>)             │           <span style=\"color: #00af00; text-decoration-color: #00af00\">120</span> │\n",
              "├─────────────────────────────────┼────────────────────────┼───────────────┤\n",
              "│ dropout (<span style=\"color: #0087ff; text-decoration-color: #0087ff\">Dropout</span>)               │ (<span style=\"color: #00d7ff; text-decoration-color: #00d7ff\">None</span>, <span style=\"color: #00af00; text-decoration-color: #00af00\">24</span>)             │             <span style=\"color: #00af00; text-decoration-color: #00af00\">0</span> │\n",
              "├─────────────────────────────────┼────────────────────────┼───────────────┤\n",
              "│ dense_1 (<span style=\"color: #0087ff; text-decoration-color: #0087ff\">Dense</span>)                 │ (<span style=\"color: #00d7ff; text-decoration-color: #00d7ff\">None</span>, <span style=\"color: #00af00; text-decoration-color: #00af00\">24</span>)             │           <span style=\"color: #00af00; text-decoration-color: #00af00\">600</span> │\n",
              "├─────────────────────────────────┼────────────────────────┼───────────────┤\n",
              "│ dropout_1 (<span style=\"color: #0087ff; text-decoration-color: #0087ff\">Dropout</span>)             │ (<span style=\"color: #00d7ff; text-decoration-color: #00d7ff\">None</span>, <span style=\"color: #00af00; text-decoration-color: #00af00\">24</span>)             │             <span style=\"color: #00af00; text-decoration-color: #00af00\">0</span> │\n",
              "├─────────────────────────────────┼────────────────────────┼───────────────┤\n",
              "│ dense_2 (<span style=\"color: #0087ff; text-decoration-color: #0087ff\">Dense</span>)                 │ (<span style=\"color: #00d7ff; text-decoration-color: #00d7ff\">None</span>, <span style=\"color: #00af00; text-decoration-color: #00af00\">24</span>)             │           <span style=\"color: #00af00; text-decoration-color: #00af00\">600</span> │\n",
              "├─────────────────────────────────┼────────────────────────┼───────────────┤\n",
              "│ dropout_2 (<span style=\"color: #0087ff; text-decoration-color: #0087ff\">Dropout</span>)             │ (<span style=\"color: #00d7ff; text-decoration-color: #00d7ff\">None</span>, <span style=\"color: #00af00; text-decoration-color: #00af00\">24</span>)             │             <span style=\"color: #00af00; text-decoration-color: #00af00\">0</span> │\n",
              "├─────────────────────────────────┼────────────────────────┼───────────────┤\n",
              "│ dense_3 (<span style=\"color: #0087ff; text-decoration-color: #0087ff\">Dense</span>)                 │ (<span style=\"color: #00d7ff; text-decoration-color: #00d7ff\">None</span>, <span style=\"color: #00af00; text-decoration-color: #00af00\">1</span>)              │            <span style=\"color: #00af00; text-decoration-color: #00af00\">25</span> │\n",
              "└─────────────────────────────────┴────────────────────────┴───────────────┘\n",
              "</pre>\n"
            ]
          },
          "metadata": {}
        },
        {
          "output_type": "display_data",
          "data": {
            "text/plain": [
              "\u001b[1m Total params: \u001b[0m\u001b[38;5;34m1,345\u001b[0m (5.25 KB)\n"
            ],
            "text/html": [
              "<pre style=\"white-space:pre;overflow-x:auto;line-height:normal;font-family:Menlo,'DejaVu Sans Mono',consolas,'Courier New',monospace\"><span style=\"font-weight: bold\"> Total params: </span><span style=\"color: #00af00; text-decoration-color: #00af00\">1,345</span> (5.25 KB)\n",
              "</pre>\n"
            ]
          },
          "metadata": {}
        },
        {
          "output_type": "display_data",
          "data": {
            "text/plain": [
              "\u001b[1m Trainable params: \u001b[0m\u001b[38;5;34m1,345\u001b[0m (5.25 KB)\n"
            ],
            "text/html": [
              "<pre style=\"white-space:pre;overflow-x:auto;line-height:normal;font-family:Menlo,'DejaVu Sans Mono',consolas,'Courier New',monospace\"><span style=\"font-weight: bold\"> Trainable params: </span><span style=\"color: #00af00; text-decoration-color: #00af00\">1,345</span> (5.25 KB)\n",
              "</pre>\n"
            ]
          },
          "metadata": {}
        },
        {
          "output_type": "display_data",
          "data": {
            "text/plain": [
              "\u001b[1m Non-trainable params: \u001b[0m\u001b[38;5;34m0\u001b[0m (0.00 B)\n"
            ],
            "text/html": [
              "<pre style=\"white-space:pre;overflow-x:auto;line-height:normal;font-family:Menlo,'DejaVu Sans Mono',consolas,'Courier New',monospace\"><span style=\"font-weight: bold\"> Non-trainable params: </span><span style=\"color: #00af00; text-decoration-color: #00af00\">0</span> (0.00 B)\n",
              "</pre>\n"
            ]
          },
          "metadata": {}
        }
      ]
    },
    {
      "cell_type": "code",
      "metadata": {
        "colab": {
          "base_uri": "https://localhost:8080/"
        },
        "id": "614d2bed",
        "outputId": "cad6dae6-60c0-46f8-996e-b138c9456c8c"
      },
      "source": [
        "!pip install keras-tuner --quiet"
      ],
      "execution_count": 20,
      "outputs": [
        {
          "output_type": "stream",
          "name": "stdout",
          "text": [
            "\u001b[?25l   \u001b[90m━━━━━━━━━━━━━━━━━━━━━━━━━━━━━━━━━━━━━━━━\u001b[0m \u001b[32m0.0/129.1 kB\u001b[0m \u001b[31m?\u001b[0m eta \u001b[36m-:--:--\u001b[0m\r\u001b[2K   \u001b[91m━━━━━━━━━━━━━━━━━━━━━━━━━━━━━━━\u001b[0m\u001b[91m╸\u001b[0m\u001b[90m━━━━━━━━\u001b[0m \u001b[32m102.4/129.1 kB\u001b[0m \u001b[31m2.9 MB/s\u001b[0m eta \u001b[36m0:00:01\u001b[0m\r\u001b[2K   \u001b[90m━━━━━━━━━━━━━━━━━━━━━━━━━━━━━━━━━━━━━━━━\u001b[0m \u001b[32m129.1/129.1 kB\u001b[0m \u001b[31m1.9 MB/s\u001b[0m eta \u001b[36m0:00:00\u001b[0m\n",
            "\u001b[?25h"
          ]
        }
      ]
    },
    {
      "cell_type": "code",
      "source": [
        "model.save('bill_nn_model.h5')             # save the trained model\n",
        "# To load later:\n",
        "loaded = keras.models.load_model('bill_nn_model.h5')"
      ],
      "metadata": {
        "colab": {
          "base_uri": "https://localhost:8080/"
        },
        "id": "5-1hkjGpAWop",
        "outputId": "b24ef2e6-b75c-421c-d001-e26ed33ad025"
      },
      "execution_count": 22,
      "outputs": [
        {
          "output_type": "stream",
          "name": "stderr",
          "text": [
            "WARNING:absl:You are saving your model as an HDF5 file via `model.save()` or `keras.saving.save_model(model)`. This file format is considered legacy. We recommend using instead the native Keras format, e.g. `model.save('my_model.keras')` or `keras.saving.save_model(model, 'my_model.keras')`. \n",
            "WARNING:absl:Compiled the loaded model, but the compiled metrics have yet to be built. `model.compile_metrics` will be empty until you train or evaluate the model.\n"
          ]
        }
      ]
    },
    {
      "cell_type": "markdown",
      "source": [
        "Impact of using a Neural Network 🌟\n",
        "Neural networks can capture complex patterns in the bill features.\n",
        "With the right tuning they can match or beat tree-based models for some datasets.\n",
        "They need more careful scaling and tuning but can be very flexible"
      ],
      "metadata": {
        "id": "_lb7HXzYAqkf"
      }
    },
    {
      "cell_type": "markdown",
      "source": [
        "Insights you may achieve (what to expect) 🔍\n",
        "Neural nets often need feature scaling (we used StandardScaler).\n",
        "Small datasets may favor simpler models (XGBoost sometimes wins on small tabular data).\n",
        "Tuning learning rate, dropout, and size matters a lot.\n",
        "Use confusion matrix to know whether your model is letting fake bills through (dangerous) or wrongly rejecting real bills (annoying)."
      ],
      "metadata": {
        "id": "NnCcXKWxAsq2"
      }
    },
    {
      "cell_type": "markdown",
      "source": [
        "What we will have achieved\n",
        "Built a neural-network robot that learns to tell real vs fake bills.\n",
        "Trained and tested it safely using a held-out test set.\n",
        "Added protections (dropout, early stopping) so it doesn’t cheat by memorizing.\n",
        "Shown how to tune the robot’s settings (by hand, grid, or using Keras Tuner).\n",
        "Saved the trained model so you can use it later without retraining."
      ],
      "metadata": {
        "id": "DzVMMaF6AzWt"
      }
    }
  ]
}