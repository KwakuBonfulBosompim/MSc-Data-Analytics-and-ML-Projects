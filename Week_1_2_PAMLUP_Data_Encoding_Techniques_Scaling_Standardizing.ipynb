{
 "cells": [
  {
   "cell_type": "code",
   "execution_count": null,
   "id": "bd078ffb-f0d5-47e6-8dad-826f49ae9da9",
   "metadata": {},
   "outputs": [],
   "source": [
    "#Polynomial regression data set\n",
    "#Another electronic store manager comes up with different data for the weekend television commercials (x) and the subsequent store sales (y):\n",
    "\n",
    "#x = [1,2,3,5,6,7,8,9,10,12,13,14,15,16,18,19,21,22] and\n",
    "#y = [100,90,80,60,60,55,60,65,70,70,75,76,78,79,90,99,99,100]."
   ]
  },
  {
   "cell_type": "code",
   "execution_count": null,
   "id": "e110cdd1-16b3-4258-88e1-0898b3b80c70",
   "metadata": {},
   "outputs": [],
   "source": [
    "# Python 3.11.3 (tags/v3.11.3:f3909b8, Apr  4 2023, 23:49:59) [MSC v.1934 64 bit (AMD64)] on win32\n",
    "#Type \"help\", \"copyright\", \"credits\" or \"license()\" for more information.\n",
    "import pandas as pd\n",
    "df=pd.read_csv('C:/Users/gtkachov/Documents/PAMLP/bill_authentication.csv')\n",
    "\n",
    "df.describe()\n",
    "from sklearn.preprocessing import StandardScaler\n",
    "scaler=StandardScaler()\n",
    "df_standard=scaler.fit_transform(df)\n",
    "df_standard\n",
    "df_standard.describe()\n",
    "df_standard.describe()"
   ]
  },
  {
   "cell_type": "code",
   "execution_count": null,
   "id": "7c484d01-3f63-4085-9394-39e5d7080ebf",
   "metadata": {},
   "outputs": [],
   "source": []
  },
  {
   "cell_type": "code",
   "execution_count": null,
   "id": "ec4a600f-64e5-4360-ad32-72f470f78640",
   "metadata": {},
   "outputs": [],
   "source": []
  }
 ],
 "metadata": {
  "kernelspec": {
   "display_name": "Python 3 (ipykernel)",
   "language": "python",
   "name": "python3"
  },
  "language_info": {
   "codemirror_mode": {
    "name": "ipython",
    "version": 3
   },
   "file_extension": ".py",
   "mimetype": "text/x-python",
   "name": "python",
   "nbconvert_exporter": "python",
   "pygments_lexer": "ipython3",
   "version": "3.12.10"
  }
 },
 "nbformat": 4,
 "nbformat_minor": 5
}
