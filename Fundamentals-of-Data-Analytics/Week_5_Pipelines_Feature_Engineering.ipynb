{
 "cells": [
  {
   "cell_type": "code",
   "execution_count": null,
   "id": "94f9a037",
   "metadata": {},
   "outputs": [],
   "source": [
    "import numpy as np\n",
    "import pandas as pd"
   ]
  },
  {
   "cell_type": "code",
   "execution_count": null,
   "id": "f7c89a55",
   "metadata": {},
   "outputs": [],
   "source": [
    "# new sklearn packages\n",
    "from sklearn.model_selection import GridSearchCV\n",
    "from sklearn.metrics import make_scorer\n",
    "\n",
    "# already  known\n",
    "from sklearn.linear_model import Ridge, LinearRegression\n",
    "from sklearn.model_selection import train_test_split, cross_validate\n",
    "from sklearn.preprocessing import MinMaxScaler, OneHotEncoder, PolynomialFeatures, KBinsDiscretizer\n",
    "from sklearn.compose import ColumnTransformer\n",
    "from sklearn.pipeline import make_pipeline\n",
    "from sklearn.metrics import root_mean_squared_log_error\n",
    "from sklearn.compose import TransformedTargetRegressor"
   ]
  },
  {
   "cell_type": "code",
   "execution_count": null,
   "id": "f4a73704",
   "metadata": {},
   "outputs": [],
   "source": [
    "# Define Business goal\n",
    "# Train a regression model that predicts the penguins by body mass.\n",
    "\n",
    "# Get data\n",
    "penguins = pd.read_csv(\"penguins_simple.csv\", sep=\";\")\n",
    "penguins"
   ]
  },
  {
   "cell_type": "code",
   "execution_count": null,
   "id": "d104e048",
   "metadata": {},
   "outputs": [],
   "source": [
    "# Feature Engineering\n",
    "fe_baseline = ColumnTransformer(\n",
    "    [\n",
    "        (\"do-nothing\", \"passthrough\", ['Flipper Lengthn(mm)'])\n",
    "    ]\n",
    ")"
   ]
  },
  {
   "cell_type": "code",
   "execution_count": null,
   "id": "c1fccf9b",
   "metadata": {},
   "outputs": [],
   "source": [
    "fe_all_feature = fe_baseline = ColumnTransformer(\n",
    "    [\n",
    "        (\"ohe\", OneHotEncoder(drop=\"first\",sparse_output=False),[\"species\", \"Sex\"]),  # it will create like Species_chinstrap, Species_Gentoo, # Sex_Male and (assuming Female is dropped)\n",
    "        (\"binning_ohe\", KBinsDiscretizer(encode=\"onehot-dense\"),[\"Flipper Length (mm)\"])  # Here we create the Flipper_bin_0 for example length from 170-190 comes flipper_bin_0 and etc.\n",
    "    ]\n",
    ")"
   ]
  },
  {
   "cell_type": "code",
   "execution_count": null,
   "id": "4358d659",
   "metadata": {},
   "outputs": [],
   "source": [
    "fe_all_feature_poly = make_pipeline(fe_all_feature, PolynomialFeatures(interaction_only=True))\n",
    "# interaction_term = true - use because it avoid squaring or cubic terms like A^2 \n",
    "#PolynomialFeatures(interaction_only=True) - generates interaction terms\n",
    "#interaction terms - represent combined effect of multiple features\n",
    "                     #example:  Sex_MALE = 1 and Flipper_bin_2 = 1, so Sex_MALE × Flipper_bin_2 → 1 = help the model to detect more complex relations"
   ]
  },
  {
   "cell_type": "code",
   "execution_count": null,
   "id": "350aaeef",
   "metadata": {},
   "outputs": [],
   "source": [
    " # Train Models\n",
    "lin_baseline = make_pipeline(fe_baseline, LinearRegression())"
   ]
  },
  {
   "cell_type": "code",
   "execution_count": null,
   "id": "72436fda",
   "metadata": {},
   "outputs": [],
   "source": [
    "lin_all = make_pipeline(fe_all_feature, LinearRegression())"
   ]
  },
  {
   "cell_type": "code",
   "execution_count": null,
   "id": "5f6d3031",
   "metadata": {},
   "outputs": [],
   "source": [
    "lin_all_poly = make_pipeline(fe_all_feature_poly, LinearRegression())\n",
    "lin_all_poly"
   ]
  },
  {
   "cell_type": "code",
   "execution_count": null,
   "id": "2abddf5d",
   "metadata": {},
   "outputs": [],
   "source": [
    "Ridge_all_poly = make_pipeline(fe_all_feature_poly, Ridge())\n",
    "Ridge_all_poly"
   ]
  },
  {
   "cell_type": "code",
   "execution_count": null,
   "id": "3d1435ac",
   "metadata": {},
   "outputs": [],
   "source": [
    "def rmsle(y_true, y_pred):\n",
    "    return mean_squared_log_error(y_true, y_pred, squared = False)\n",
    "\n",
    "rmsle_scorer = make_scorer(rmsle, greater_is_better=False)"
   ]
  },
  {
   "cell_type": "code",
   "execution_count": null,
   "id": "c8924950",
   "metadata": {},
   "outputs": [],
   "source": [
    "# splitting the data\n",
    "X = penguins.drop(columns=['Body Mass (g)'])\n",
    "y = penguins['Body Mass (g)'] # Target Variable\n",
    "\n",
    "xtrain, xtest, ytrain, ytest = train_test_split(X, y, test_size=0.2, random_state=42)"
   ]
  },
  {
   "cell_type": "code",
   "execution_count": null,
   "id": "69f9844b",
   "metadata": {},
   "outputs": [],
   "source": [
    "# Baseline\n",
    "cross_val_inbaseline = cross_validate(\n",
    "    estimator=lin_baseline,\n",
    "    X=xtrain,\n",
    "    y=ytrain,\n",
    "    cv=5,\n",
    "    verbose=1,\n",
    "    scoring=rmsle_scorer,\n",
    "    return_train_score=True,\n",
    "    n_jobs=-1\n",
    ")"
   ]
  }
 ],
 "metadata": {
  "kernelspec": {
   "display_name": "Python 3 (ipykernel)",
   "language": "python",
   "name": "python3"
  },
  "language_info": {
   "codemirror_mode": {
    "name": "ipython",
    "version": 3
   },
   "file_extension": ".py",
   "mimetype": "text/x-python",
   "name": "python",
   "nbconvert_exporter": "python",
   "pygments_lexer": "ipython3",
   "version": "3.12.10"
  }
 },
 "nbformat": 4,
 "nbformat_minor": 5
}
